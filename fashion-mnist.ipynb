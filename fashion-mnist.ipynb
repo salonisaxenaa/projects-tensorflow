{
  "nbformat": 4,
  "nbformat_minor": 0,
  "metadata": {
    "colab": {
      "provenance": []
    },
    "kernelspec": {
      "name": "python3",
      "display_name": "Python 3"
    },
    "language_info": {
      "name": "python"
    }
  },
  "cells": [
    {
      "cell_type": "code",
      "execution_count": null,
      "metadata": {
        "id": "SLHJ-iqgE2lQ"
      },
      "outputs": [],
      "source": [
        "import matplotlib.pyplot as plt\n",
        "import tensorflow as tf\n",
        "import numpy as np\n",
        "import os"
      ]
    },
    {
      "cell_type": "code",
      "source": [
        "!wget \"https://storage.googleapis.com/laurencemoroney-blog.appspot.com/happy-or-sad.zip\" "
      ],
      "metadata": {
        "colab": {
          "base_uri": "https://localhost:8080/"
        },
        "id": "0dYMSy1tb50h",
        "outputId": "f8b94380-ae5c-431b-ce31-c0558e7fab3c"
      },
      "execution_count": null,
      "outputs": [
        {
          "output_type": "stream",
          "name": "stdout",
          "text": [
            "--2022-11-14 14:00:00--  https://storage.googleapis.com/laurencemoroney-blog.appspot.com/happy-or-sad.zip\n",
            "Resolving storage.googleapis.com (storage.googleapis.com)... 74.125.134.128, 173.194.210.128, 173.194.211.128, ...\n",
            "Connecting to storage.googleapis.com (storage.googleapis.com)|74.125.134.128|:443... connected.\n",
            "HTTP request sent, awaiting response... 200 OK\n",
            "Length: 2670333 (2.5M) [application/zip]\n",
            "Saving to: ‘happy-or-sad.zip’\n",
            "\n",
            "happy-or-sad.zip    100%[===================>]   2.55M  --.-KB/s    in 0.02s   \n",
            "\n",
            "2022-11-14 14:00:00 (151 MB/s) - ‘happy-or-sad.zip’ saved [2670333/2670333]\n",
            "\n"
          ]
        }
      ]
    },
    {
      "cell_type": "code",
      "source": [
        "import zipfile\n",
        "local_zip= './happy-or-sad.zip'\n",
        "zip_ref=zipfile.ZipFile(local_zip, 'r')\n",
        "zip_ref.extractall('./happy-or-sad')"
      ],
      "metadata": {
        "id": "aVIEjdndcLwb"
      },
      "execution_count": null,
      "outputs": []
    },
    {
      "cell_type": "code",
      "source": [
        "from tensorflow.keras.preprocessing.image import img_to_array\n",
        "from tensorflow.keras.preprocessing.image import load_img"
      ],
      "metadata": {
        "id": "_j9MAa-6dVqg"
      },
      "execution_count": null,
      "outputs": []
    },
    {
      "cell_type": "code",
      "source": [
        "base_dir = os.path.join(\"./happy-or-sad\")\n",
        "happy_dir=os.path.join( base_dir, \"happy/\")\n",
        "sad_dir=os.path.join(base_dir,\"sad/\")"
      ],
      "metadata": {
        "id": "ZTaaLuUrE6av"
      },
      "execution_count": null,
      "outputs": []
    },
    {
      "cell_type": "code",
      "source": [
        "img=load_img(f\"{os.path.join(happy_dir, os.listdir(happy_dir)[3])}\")"
      ],
      "metadata": {
        "id": "TBJSA4rYdurw"
      },
      "execution_count": null,
      "outputs": []
    },
    {
      "cell_type": "code",
      "source": [
        "arr=img_to_array(img)\n",
        "print(arr.shape)\n",
        "print(np.max(arr))"
      ],
      "metadata": {
        "colab": {
          "base_uri": "https://localhost:8080/"
        },
        "id": "xCO7sypHe7kW",
        "outputId": "18f8b87f-f09f-41c7-e727-aefd3c6684bc"
      },
      "execution_count": null,
      "outputs": [
        {
          "output_type": "stream",
          "name": "stdout",
          "text": [
            "(150, 150, 3)\n",
            "255.0\n"
          ]
        }
      ]
    },
    {
      "cell_type": "code",
      "source": [
        "from tensorflow.keras.preprocessing.image import ImageDataGenerator\n",
        "train_data=ImageDataGenerator(rescale=1./255)\n",
        "train_generator=train_data.flow_from_directory(base_dir, target_size=(150,150), batch_size=10, class_mode='binary')\n"
      ],
      "metadata": {
        "colab": {
          "base_uri": "https://localhost:8080/"
        },
        "id": "-9hdoSHNfQVq",
        "outputId": "2eaeead0-3e83-41fc-9f31-2440585c4b87"
      },
      "execution_count": null,
      "outputs": [
        {
          "output_type": "stream",
          "name": "stdout",
          "text": [
            "Found 80 images belonging to 2 classes.\n"
          ]
        }
      ]
    },
    {
      "cell_type": "code",
      "source": [
        "model=tf.keras.Sequential([tf.keras.layers.Conv2D(16, (3,3), activation='relu', input_shape=(150,150,3)),\n",
        "                          tf.keras.layers.MaxPooling2D(2,2),\n",
        "                          tf.keras.layers.Conv2D(32, (3,3), activation='relu', input_shape=(150,150,3)),\n",
        "                          tf.keras.layers.MaxPooling2D(2,2),\n",
        "                          tf.keras.layers.Conv2D(64, (3,3), activation='relu', input_shape=(150,150,3)),\n",
        "                          tf.keras.layers.MaxPooling2D(2,2),\n",
        "                          tf.keras.layers.Conv2D(64, (3,3), activation='relu', input_shape=(150,150,3)),\n",
        "                          tf.keras.layers.MaxPooling2D(2,2),\n",
        "                          tf.keras.layers.Flatten(),\n",
        "                          tf.keras.layers.Dense(128, activation='relu'),\n",
        "                          tf.keras.layers.Dense(1, activation='sigmoid')])"
      ],
      "metadata": {
        "id": "d-M3LlX-gnnv"
      },
      "execution_count": null,
      "outputs": []
    },
    {
      "cell_type": "code",
      "source": [
        "from tensorflow.keras.optimizers import RMSprop\n",
        "model.compile(optimizer=RMSprop(learning_rate=0.001),loss='binary_crossentropy',metrics=['accuracy'])"
      ],
      "metadata": {
        "id": "YQnxOcZAh8Hk"
      },
      "execution_count": null,
      "outputs": []
    },
    {
      "cell_type": "code",
      "source": [
        "class myCallbacks(tf.keras.callbacks.Callback):\n",
        "  def on_epoch_end(self, epochs, logs={}):\n",
        "    if(logs.get('accuracy')>0.99):\n",
        "      print(\"staopp\")\n",
        "      self.model.stop_training=True\n",
        "callbacks=myCallbacks()"
      ],
      "metadata": {
        "id": "__EEKFCGi971"
      },
      "execution_count": null,
      "outputs": []
    },
    {
      "cell_type": "code",
      "source": [
        "model.fit(\n",
        "      train_generator,\n",
        "      steps_per_epoch=8,  \n",
        "      epochs=50,\n",
        "      verbose=1)\n",
        "    "
      ],
      "metadata": {
        "colab": {
          "base_uri": "https://localhost:8080/"
        },
        "id": "vdipesu0j92r",
        "outputId": "0b8610b9-8f9d-4351-acdc-3302dbec9f1e"
      },
      "execution_count": null,
      "outputs": [
        {
          "output_type": "stream",
          "name": "stdout",
          "text": [
            "Epoch 1/50\n",
            "8/8 [==============================] - 2s 234ms/step - loss: 5.3958e-05 - accuracy: 1.0000\n",
            "Epoch 2/50\n",
            "8/8 [==============================] - 2s 234ms/step - loss: 3.3121e-05 - accuracy: 1.0000\n",
            "Epoch 3/50\n",
            "8/8 [==============================] - 2s 236ms/step - loss: 2.2655e-05 - accuracy: 1.0000\n",
            "Epoch 4/50\n",
            "8/8 [==============================] - 2s 236ms/step - loss: 1.5527e-05 - accuracy: 1.0000\n",
            "Epoch 5/50\n",
            "8/8 [==============================] - 2s 246ms/step - loss: 1.0301e-05 - accuracy: 1.0000\n",
            "Epoch 6/50\n",
            "8/8 [==============================] - 2s 232ms/step - loss: 0.0121 - accuracy: 1.0000\n",
            "Epoch 7/50\n",
            "8/8 [==============================] - 2s 233ms/step - loss: 2.6612e-05 - accuracy: 1.0000\n",
            "Epoch 8/50\n",
            "8/8 [==============================] - 2s 231ms/step - loss: 1.7722e-05 - accuracy: 1.0000\n",
            "Epoch 9/50\n",
            "8/8 [==============================] - 2s 232ms/step - loss: 1.4928e-05 - accuracy: 1.0000\n",
            "Epoch 10/50\n",
            "8/8 [==============================] - 2s 235ms/step - loss: 1.1805e-05 - accuracy: 1.0000\n",
            "Epoch 11/50\n",
            "8/8 [==============================] - 2s 231ms/step - loss: 9.7884e-06 - accuracy: 1.0000\n",
            "Epoch 12/50\n",
            "8/8 [==============================] - 2s 233ms/step - loss: 6.7793e-06 - accuracy: 1.0000\n",
            "Epoch 13/50\n",
            "8/8 [==============================] - 2s 229ms/step - loss: 6.0261e-06 - accuracy: 1.0000\n",
            "Epoch 14/50\n",
            "8/8 [==============================] - 2s 230ms/step - loss: 4.1166e-06 - accuracy: 1.0000\n",
            "Epoch 15/50\n",
            "8/8 [==============================] - 2s 230ms/step - loss: 3.2895e-06 - accuracy: 1.0000\n",
            "Epoch 16/50\n",
            "8/8 [==============================] - 2s 231ms/step - loss: 2.8771e-06 - accuracy: 1.0000\n",
            "Epoch 17/50\n",
            "8/8 [==============================] - 2s 235ms/step - loss: 1.7164e-06 - accuracy: 1.0000\n",
            "Epoch 18/50\n",
            "8/8 [==============================] - 2s 231ms/step - loss: 1.1870e-06 - accuracy: 1.0000\n",
            "Epoch 19/50\n",
            "8/8 [==============================] - 2s 233ms/step - loss: 1.2231e-06 - accuracy: 1.0000\n",
            "Epoch 20/50\n",
            "8/8 [==============================] - 2s 231ms/step - loss: 5.3220e-07 - accuracy: 1.0000\n",
            "Epoch 21/50\n",
            "8/8 [==============================] - 2s 232ms/step - loss: 5.3086e-07 - accuracy: 1.0000\n",
            "Epoch 22/50\n",
            "8/8 [==============================] - 2s 231ms/step - loss: 3.6509e-07 - accuracy: 1.0000\n",
            "Epoch 23/50\n",
            "8/8 [==============================] - 2s 229ms/step - loss: 1.9456e-07 - accuracy: 1.0000\n",
            "Epoch 24/50\n",
            "8/8 [==============================] - 2s 229ms/step - loss: 1.2936e-07 - accuracy: 1.0000\n",
            "Epoch 25/50\n",
            "8/8 [==============================] - 2s 230ms/step - loss: 1.3606e-07 - accuracy: 1.0000\n",
            "Epoch 26/50\n",
            "8/8 [==============================] - 2s 231ms/step - loss: 6.6005e-08 - accuracy: 1.0000\n",
            "Epoch 27/50\n",
            "8/8 [==============================] - 2s 229ms/step - loss: 4.3211e-08 - accuracy: 1.0000\n",
            "Epoch 28/50\n",
            "8/8 [==============================] - 2s 229ms/step - loss: 3.1240e-08 - accuracy: 1.0000\n",
            "Epoch 29/50\n",
            "8/8 [==============================] - 2s 227ms/step - loss: 2.2848e-08 - accuracy: 1.0000\n",
            "Epoch 30/50\n",
            "8/8 [==============================] - 2s 229ms/step - loss: 1.7518e-08 - accuracy: 1.0000\n",
            "Epoch 31/50\n",
            "8/8 [==============================] - 2s 227ms/step - loss: 1.2400e-08 - accuracy: 1.0000\n",
            "Epoch 32/50\n",
            "8/8 [==============================] - 2s 232ms/step - loss: 9.6795e-09 - accuracy: 1.0000\n",
            "Epoch 33/50\n",
            "8/8 [==============================] - 2s 228ms/step - loss: 7.1466e-09 - accuracy: 1.0000\n",
            "Epoch 34/50\n",
            "8/8 [==============================] - 2s 229ms/step - loss: 5.6110e-09 - accuracy: 1.0000\n",
            "Epoch 35/50\n",
            "8/8 [==============================] - 2s 233ms/step - loss: 4.5976e-09 - accuracy: 1.0000\n",
            "Epoch 36/50\n",
            "8/8 [==============================] - 2s 230ms/step - loss: 3.8544e-09 - accuracy: 1.0000\n",
            "Epoch 37/50\n",
            "8/8 [==============================] - 2s 230ms/step - loss: 3.8289e-09 - accuracy: 1.0000\n",
            "Epoch 38/50\n",
            "8/8 [==============================] - 2s 230ms/step - loss: 2.7932e-09 - accuracy: 1.0000\n",
            "Epoch 39/50\n",
            "8/8 [==============================] - 2s 230ms/step - loss: 2.2498e-09 - accuracy: 1.0000\n",
            "Epoch 40/50\n",
            "8/8 [==============================] - 2s 231ms/step - loss: 1.8819e-09 - accuracy: 1.0000\n",
            "Epoch 41/50\n",
            "8/8 [==============================] - 2s 229ms/step - loss: 2.1597e-09 - accuracy: 1.0000\n",
            "Epoch 42/50\n",
            "8/8 [==============================] - 2s 233ms/step - loss: 2.8609e-09 - accuracy: 1.0000\n",
            "Epoch 43/50\n",
            "8/8 [==============================] - 2s 231ms/step - loss: 1.7703e-09 - accuracy: 1.0000\n",
            "Epoch 44/50\n",
            "8/8 [==============================] - 2s 234ms/step - loss: 1.8541e-09 - accuracy: 1.0000\n",
            "Epoch 45/50\n",
            "8/8 [==============================] - 2s 235ms/step - loss: 2.3280e-09 - accuracy: 1.0000\n",
            "Epoch 46/50\n",
            "8/8 [==============================] - 2s 232ms/step - loss: 1.2505e-09 - accuracy: 1.0000\n",
            "Epoch 47/50\n",
            "8/8 [==============================] - 2s 236ms/step - loss: 1.4106e-09 - accuracy: 1.0000\n",
            "Epoch 48/50\n",
            "8/8 [==============================] - 2s 237ms/step - loss: 1.5375e-09 - accuracy: 1.0000\n",
            "Epoch 49/50\n",
            "8/8 [==============================] - 2s 234ms/step - loss: 1.8626e-09 - accuracy: 1.0000\n",
            "Epoch 50/50\n",
            "8/8 [==============================] - 2s 232ms/step - loss: 2.2274e-09 - accuracy: 1.0000\n"
          ]
        },
        {
          "output_type": "execute_result",
          "data": {
            "text/plain": [
              "<keras.callbacks.History at 0x7fdc7d823b90>"
            ]
          },
          "metadata": {},
          "execution_count": 54
        }
      ]
    },
    {
      "cell_type": "code",
      "source": [
        "classification=model.predict(train_generator)\n",
        "print(classification[3])"
      ],
      "metadata": {
        "colab": {
          "base_uri": "https://localhost:8080/"
        },
        "id": "qJZAaAz5lvRG",
        "outputId": "68588e82-701a-464a-cae3-f62e65d8eeb6"
      },
      "execution_count": null,
      "outputs": [
        {
          "output_type": "stream",
          "name": "stdout",
          "text": [
            "8/8 [==============================] - 1s 80ms/step\n",
            "[5.5694555e-10]\n"
          ]
        }
      ]
    },
    {
      "cell_type": "code",
      "source": [
        "import numpy as np\n",
        "from google.colab import files\n",
        "from tensorflow.keras.utils import load_img, img_to_array\n",
        "\n",
        "uploaded = files.upload()\n",
        "\n",
        "for fn in uploaded.keys():\n",
        " \n",
        "  # predicting images\n",
        "  path = '/content/' + fn\n",
        "  img = load_img(path, target_size=(150, 150))\n",
        "  x = img_to_array(img)\n",
        "  x /= 255\n",
        "  x = np.expand_dims(x, axis=0)\n",
        "\n",
        "  images = np.vstack([x])\n",
        "  classes = model.predict(images, batch_size=10)\n",
        "  print(classes[0])\n",
        "    \n",
        "  if classes[0]>0.5:\n",
        "    print(fn + \" is sad\")\n",
        "  else:\n",
        "    print(fn + \" is happy\")"
      ],
      "metadata": {
        "colab": {
          "base_uri": "https://localhost:8080/",
          "height": 401
        },
        "id": "EkboNFNHmkEx",
        "outputId": "030858ed-c25e-410d-d48a-ed5cf74ad145"
      },
      "execution_count": null,
      "outputs": [
        {
          "output_type": "display_data",
          "data": {
            "text/plain": [
              "<IPython.core.display.HTML object>"
            ],
            "text/html": [
              "\n",
              "     <input type=\"file\" id=\"files-6f5c4f07-8666-4738-b8e0-cb61508105e3\" name=\"files[]\" multiple disabled\n",
              "        style=\"border:none\" />\n",
              "     <output id=\"result-6f5c4f07-8666-4738-b8e0-cb61508105e3\">\n",
              "      Upload widget is only available when the cell has been executed in the\n",
              "      current browser session. Please rerun this cell to enable.\n",
              "      </output>\n",
              "      <script>// Copyright 2017 Google LLC\n",
              "//\n",
              "// Licensed under the Apache License, Version 2.0 (the \"License\");\n",
              "// you may not use this file except in compliance with the License.\n",
              "// You may obtain a copy of the License at\n",
              "//\n",
              "//      http://www.apache.org/licenses/LICENSE-2.0\n",
              "//\n",
              "// Unless required by applicable law or agreed to in writing, software\n",
              "// distributed under the License is distributed on an \"AS IS\" BASIS,\n",
              "// WITHOUT WARRANTIES OR CONDITIONS OF ANY KIND, either express or implied.\n",
              "// See the License for the specific language governing permissions and\n",
              "// limitations under the License.\n",
              "\n",
              "/**\n",
              " * @fileoverview Helpers for google.colab Python module.\n",
              " */\n",
              "(function(scope) {\n",
              "function span(text, styleAttributes = {}) {\n",
              "  const element = document.createElement('span');\n",
              "  element.textContent = text;\n",
              "  for (const key of Object.keys(styleAttributes)) {\n",
              "    element.style[key] = styleAttributes[key];\n",
              "  }\n",
              "  return element;\n",
              "}\n",
              "\n",
              "// Max number of bytes which will be uploaded at a time.\n",
              "const MAX_PAYLOAD_SIZE = 100 * 1024;\n",
              "\n",
              "function _uploadFiles(inputId, outputId) {\n",
              "  const steps = uploadFilesStep(inputId, outputId);\n",
              "  const outputElement = document.getElementById(outputId);\n",
              "  // Cache steps on the outputElement to make it available for the next call\n",
              "  // to uploadFilesContinue from Python.\n",
              "  outputElement.steps = steps;\n",
              "\n",
              "  return _uploadFilesContinue(outputId);\n",
              "}\n",
              "\n",
              "// This is roughly an async generator (not supported in the browser yet),\n",
              "// where there are multiple asynchronous steps and the Python side is going\n",
              "// to poll for completion of each step.\n",
              "// This uses a Promise to block the python side on completion of each step,\n",
              "// then passes the result of the previous step as the input to the next step.\n",
              "function _uploadFilesContinue(outputId) {\n",
              "  const outputElement = document.getElementById(outputId);\n",
              "  const steps = outputElement.steps;\n",
              "\n",
              "  const next = steps.next(outputElement.lastPromiseValue);\n",
              "  return Promise.resolve(next.value.promise).then((value) => {\n",
              "    // Cache the last promise value to make it available to the next\n",
              "    // step of the generator.\n",
              "    outputElement.lastPromiseValue = value;\n",
              "    return next.value.response;\n",
              "  });\n",
              "}\n",
              "\n",
              "/**\n",
              " * Generator function which is called between each async step of the upload\n",
              " * process.\n",
              " * @param {string} inputId Element ID of the input file picker element.\n",
              " * @param {string} outputId Element ID of the output display.\n",
              " * @return {!Iterable<!Object>} Iterable of next steps.\n",
              " */\n",
              "function* uploadFilesStep(inputId, outputId) {\n",
              "  const inputElement = document.getElementById(inputId);\n",
              "  inputElement.disabled = false;\n",
              "\n",
              "  const outputElement = document.getElementById(outputId);\n",
              "  outputElement.innerHTML = '';\n",
              "\n",
              "  const pickedPromise = new Promise((resolve) => {\n",
              "    inputElement.addEventListener('change', (e) => {\n",
              "      resolve(e.target.files);\n",
              "    });\n",
              "  });\n",
              "\n",
              "  const cancel = document.createElement('button');\n",
              "  inputElement.parentElement.appendChild(cancel);\n",
              "  cancel.textContent = 'Cancel upload';\n",
              "  const cancelPromise = new Promise((resolve) => {\n",
              "    cancel.onclick = () => {\n",
              "      resolve(null);\n",
              "    };\n",
              "  });\n",
              "\n",
              "  // Wait for the user to pick the files.\n",
              "  const files = yield {\n",
              "    promise: Promise.race([pickedPromise, cancelPromise]),\n",
              "    response: {\n",
              "      action: 'starting',\n",
              "    }\n",
              "  };\n",
              "\n",
              "  cancel.remove();\n",
              "\n",
              "  // Disable the input element since further picks are not allowed.\n",
              "  inputElement.disabled = true;\n",
              "\n",
              "  if (!files) {\n",
              "    return {\n",
              "      response: {\n",
              "        action: 'complete',\n",
              "      }\n",
              "    };\n",
              "  }\n",
              "\n",
              "  for (const file of files) {\n",
              "    const li = document.createElement('li');\n",
              "    li.append(span(file.name, {fontWeight: 'bold'}));\n",
              "    li.append(span(\n",
              "        `(${file.type || 'n/a'}) - ${file.size} bytes, ` +\n",
              "        `last modified: ${\n",
              "            file.lastModifiedDate ? file.lastModifiedDate.toLocaleDateString() :\n",
              "                                    'n/a'} - `));\n",
              "    const percent = span('0% done');\n",
              "    li.appendChild(percent);\n",
              "\n",
              "    outputElement.appendChild(li);\n",
              "\n",
              "    const fileDataPromise = new Promise((resolve) => {\n",
              "      const reader = new FileReader();\n",
              "      reader.onload = (e) => {\n",
              "        resolve(e.target.result);\n",
              "      };\n",
              "      reader.readAsArrayBuffer(file);\n",
              "    });\n",
              "    // Wait for the data to be ready.\n",
              "    let fileData = yield {\n",
              "      promise: fileDataPromise,\n",
              "      response: {\n",
              "        action: 'continue',\n",
              "      }\n",
              "    };\n",
              "\n",
              "    // Use a chunked sending to avoid message size limits. See b/62115660.\n",
              "    let position = 0;\n",
              "    do {\n",
              "      const length = Math.min(fileData.byteLength - position, MAX_PAYLOAD_SIZE);\n",
              "      const chunk = new Uint8Array(fileData, position, length);\n",
              "      position += length;\n",
              "\n",
              "      const base64 = btoa(String.fromCharCode.apply(null, chunk));\n",
              "      yield {\n",
              "        response: {\n",
              "          action: 'append',\n",
              "          file: file.name,\n",
              "          data: base64,\n",
              "        },\n",
              "      };\n",
              "\n",
              "      let percentDone = fileData.byteLength === 0 ?\n",
              "          100 :\n",
              "          Math.round((position / fileData.byteLength) * 100);\n",
              "      percent.textContent = `${percentDone}% done`;\n",
              "\n",
              "    } while (position < fileData.byteLength);\n",
              "  }\n",
              "\n",
              "  // All done.\n",
              "  yield {\n",
              "    response: {\n",
              "      action: 'complete',\n",
              "    }\n",
              "  };\n",
              "}\n",
              "\n",
              "scope.google = scope.google || {};\n",
              "scope.google.colab = scope.google.colab || {};\n",
              "scope.google.colab._files = {\n",
              "  _uploadFiles,\n",
              "  _uploadFilesContinue,\n",
              "};\n",
              "})(self);\n",
              "</script> "
            ]
          },
          "metadata": {}
        },
        {
          "output_type": "error",
          "ename": "KeyboardInterrupt",
          "evalue": "ignored",
          "traceback": [
            "\u001b[0;31m---------------------------------------------------------------------------\u001b[0m",
            "\u001b[0;31mKeyboardInterrupt\u001b[0m                         Traceback (most recent call last)",
            "\u001b[0;32m<ipython-input-1-2dd36d7609ea>\u001b[0m in \u001b[0;36m<module>\u001b[0;34m\u001b[0m\n\u001b[1;32m      3\u001b[0m \u001b[0;32mfrom\u001b[0m \u001b[0mtensorflow\u001b[0m\u001b[0;34m.\u001b[0m\u001b[0mkeras\u001b[0m\u001b[0;34m.\u001b[0m\u001b[0mutils\u001b[0m \u001b[0;32mimport\u001b[0m \u001b[0mload_img\u001b[0m\u001b[0;34m,\u001b[0m \u001b[0mimg_to_array\u001b[0m\u001b[0;34m\u001b[0m\u001b[0;34m\u001b[0m\u001b[0m\n\u001b[1;32m      4\u001b[0m \u001b[0;34m\u001b[0m\u001b[0m\n\u001b[0;32m----> 5\u001b[0;31m \u001b[0muploaded\u001b[0m \u001b[0;34m=\u001b[0m \u001b[0mfiles\u001b[0m\u001b[0;34m.\u001b[0m\u001b[0mupload\u001b[0m\u001b[0;34m(\u001b[0m\u001b[0;34m)\u001b[0m\u001b[0;34m\u001b[0m\u001b[0;34m\u001b[0m\u001b[0m\n\u001b[0m\u001b[1;32m      6\u001b[0m \u001b[0;34m\u001b[0m\u001b[0m\n\u001b[1;32m      7\u001b[0m \u001b[0;32mfor\u001b[0m \u001b[0mfn\u001b[0m \u001b[0;32min\u001b[0m \u001b[0muploaded\u001b[0m\u001b[0;34m.\u001b[0m\u001b[0mkeys\u001b[0m\u001b[0;34m(\u001b[0m\u001b[0;34m)\u001b[0m\u001b[0;34m:\u001b[0m\u001b[0;34m\u001b[0m\u001b[0;34m\u001b[0m\u001b[0m\n",
            "\u001b[0;32m/usr/local/lib/python3.7/dist-packages/google/colab/files.py\u001b[0m in \u001b[0;36mupload\u001b[0;34m()\u001b[0m\n\u001b[1;32m     65\u001b[0m   \"\"\"\n\u001b[1;32m     66\u001b[0m \u001b[0;34m\u001b[0m\u001b[0m\n\u001b[0;32m---> 67\u001b[0;31m   \u001b[0muploaded_files\u001b[0m \u001b[0;34m=\u001b[0m \u001b[0m_upload_files\u001b[0m\u001b[0;34m(\u001b[0m\u001b[0mmultiple\u001b[0m\u001b[0;34m=\u001b[0m\u001b[0;32mTrue\u001b[0m\u001b[0;34m)\u001b[0m\u001b[0;34m\u001b[0m\u001b[0;34m\u001b[0m\u001b[0m\n\u001b[0m\u001b[1;32m     68\u001b[0m   \u001b[0;31m# Mapping from original filename to filename as saved locally.\u001b[0m\u001b[0;34m\u001b[0m\u001b[0;34m\u001b[0m\u001b[0;34m\u001b[0m\u001b[0m\n\u001b[1;32m     69\u001b[0m   \u001b[0mlocal_filenames\u001b[0m \u001b[0;34m=\u001b[0m \u001b[0mdict\u001b[0m\u001b[0;34m(\u001b[0m\u001b[0;34m)\u001b[0m\u001b[0;34m\u001b[0m\u001b[0;34m\u001b[0m\u001b[0m\n",
            "\u001b[0;32m/usr/local/lib/python3.7/dist-packages/google/colab/files.py\u001b[0m in \u001b[0;36m_upload_files\u001b[0;34m(multiple)\u001b[0m\n\u001b[1;32m    144\u001b[0m   result = _output.eval_js(\n\u001b[1;32m    145\u001b[0m       'google.colab._files._uploadFiles(\"{input_id}\", \"{output_id}\")'.format(\n\u001b[0;32m--> 146\u001b[0;31m           input_id=input_id, output_id=output_id))\n\u001b[0m\u001b[1;32m    147\u001b[0m   \u001b[0mfiles\u001b[0m \u001b[0;34m=\u001b[0m \u001b[0m_collections\u001b[0m\u001b[0;34m.\u001b[0m\u001b[0mdefaultdict\u001b[0m\u001b[0;34m(\u001b[0m\u001b[0mbytes\u001b[0m\u001b[0;34m)\u001b[0m\u001b[0;34m\u001b[0m\u001b[0;34m\u001b[0m\u001b[0m\n\u001b[1;32m    148\u001b[0m \u001b[0;34m\u001b[0m\u001b[0m\n",
            "\u001b[0;32m/usr/local/lib/python3.7/dist-packages/google/colab/output/_js.py\u001b[0m in \u001b[0;36meval_js\u001b[0;34m(script, ignore_result, timeout_sec)\u001b[0m\n\u001b[1;32m     38\u001b[0m   \u001b[0;32mif\u001b[0m \u001b[0mignore_result\u001b[0m\u001b[0;34m:\u001b[0m\u001b[0;34m\u001b[0m\u001b[0;34m\u001b[0m\u001b[0m\n\u001b[1;32m     39\u001b[0m     \u001b[0;32mreturn\u001b[0m\u001b[0;34m\u001b[0m\u001b[0;34m\u001b[0m\u001b[0m\n\u001b[0;32m---> 40\u001b[0;31m   \u001b[0;32mreturn\u001b[0m \u001b[0m_message\u001b[0m\u001b[0;34m.\u001b[0m\u001b[0mread_reply_from_input\u001b[0m\u001b[0;34m(\u001b[0m\u001b[0mrequest_id\u001b[0m\u001b[0;34m,\u001b[0m \u001b[0mtimeout_sec\u001b[0m\u001b[0;34m)\u001b[0m\u001b[0;34m\u001b[0m\u001b[0;34m\u001b[0m\u001b[0m\n\u001b[0m\u001b[1;32m     41\u001b[0m \u001b[0;34m\u001b[0m\u001b[0m\n\u001b[1;32m     42\u001b[0m \u001b[0;34m\u001b[0m\u001b[0m\n",
            "\u001b[0;32m/usr/local/lib/python3.7/dist-packages/google/colab/_message.py\u001b[0m in \u001b[0;36mread_reply_from_input\u001b[0;34m(message_id, timeout_sec)\u001b[0m\n\u001b[1;32m     95\u001b[0m     \u001b[0mreply\u001b[0m \u001b[0;34m=\u001b[0m \u001b[0m_read_next_input_message\u001b[0m\u001b[0;34m(\u001b[0m\u001b[0;34m)\u001b[0m\u001b[0;34m\u001b[0m\u001b[0;34m\u001b[0m\u001b[0m\n\u001b[1;32m     96\u001b[0m     \u001b[0;32mif\u001b[0m \u001b[0mreply\u001b[0m \u001b[0;34m==\u001b[0m \u001b[0m_NOT_READY\u001b[0m \u001b[0;32mor\u001b[0m \u001b[0;32mnot\u001b[0m \u001b[0misinstance\u001b[0m\u001b[0;34m(\u001b[0m\u001b[0mreply\u001b[0m\u001b[0;34m,\u001b[0m \u001b[0mdict\u001b[0m\u001b[0;34m)\u001b[0m\u001b[0;34m:\u001b[0m\u001b[0;34m\u001b[0m\u001b[0;34m\u001b[0m\u001b[0m\n\u001b[0;32m---> 97\u001b[0;31m       \u001b[0mtime\u001b[0m\u001b[0;34m.\u001b[0m\u001b[0msleep\u001b[0m\u001b[0;34m(\u001b[0m\u001b[0;36m0.025\u001b[0m\u001b[0;34m)\u001b[0m\u001b[0;34m\u001b[0m\u001b[0;34m\u001b[0m\u001b[0m\n\u001b[0m\u001b[1;32m     98\u001b[0m       \u001b[0;32mcontinue\u001b[0m\u001b[0;34m\u001b[0m\u001b[0;34m\u001b[0m\u001b[0m\n\u001b[1;32m     99\u001b[0m     if (reply.get('type') == 'colab_reply' and\n",
            "\u001b[0;31mKeyboardInterrupt\u001b[0m: "
          ]
        }
      ]
    }
  ]
}